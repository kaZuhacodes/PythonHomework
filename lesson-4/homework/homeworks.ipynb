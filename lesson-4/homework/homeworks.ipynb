{
 "cells": [
  {
   "cell_type": "code",
   "execution_count": 11,
   "metadata": {},
   "outputs": [
    {
     "data": {
      "text/plain": [
       "[1, 1, 3, 4]"
      ]
     },
     "execution_count": 11,
     "metadata": {},
     "output_type": "execute_result"
    }
   ],
   "source": [
    "#1.1 \n",
    "list1 = [1, 1, 2]\n",
    "list2 = [2, 3, 4]\n",
    "\n",
    "result = [x for x in list1 if x not in list2] + [y for y in list2 if y not in list1]\n",
    "result"
   ]
  },
  {
   "cell_type": "code",
   "execution_count": 12,
   "metadata": {},
   "outputs": [
    {
     "data": {
      "text/plain": [
       "[1, 2, 3, 4, 5, 6]"
      ]
     },
     "execution_count": 12,
     "metadata": {},
     "output_type": "execute_result"
    }
   ],
   "source": [
    "#1.2\n",
    "list1 = [1, 2, 3]\n",
    "list2 = [4, 5, 6]\n",
    "\n",
    "result = [x for x in list1 if x not in list2] + [y for y in list2 if y not in list1]\n",
    "result\n",
    "\n"
   ]
  },
  {
   "cell_type": "code",
   "execution_count": 14,
   "metadata": {},
   "outputs": [
    {
     "data": {
      "text/plain": [
       "[2, 2, 5]"
      ]
     },
     "execution_count": 14,
     "metadata": {},
     "output_type": "execute_result"
    }
   ],
   "source": [
    "#1.3\n",
    "list1 = [1, 1, 2, 3, 4, 2]\n",
    "list2 = [1, 3, 4, 5]\n",
    "\n",
    "result = [x for x in list1 if x not in list2] + [x for x in list2 if x not in list1]\n",
    "result"
   ]
  },
  {
   "cell_type": "code",
   "execution_count": 16,
   "metadata": {},
   "outputs": [
    {
     "name": "stdout",
     "output_type": "stream",
     "text": [
      "1\n",
      "4\n",
      "9\n",
      "16\n"
     ]
    }
   ],
   "source": [
    "#2\n",
    "for n in range(1,5):\n",
    "    print(n**2)"
   ]
  },
  {
   "cell_type": "code",
   "execution_count": 10,
   "metadata": {},
   "outputs": [
    {
     "name": "stdout",
     "output_type": "stream",
     "text": [
      "he_l_l_o\n",
      "a_s_s_a_l_o_m\n",
      "a_b_c_a_b_c_d_a_b_c_d_e_a_b_c_d_e_f_a_b_c_d_e_f_g\n"
     ]
    }
   ],
   "source": [
    "#3\n",
    "def modify_text(txt):\n",
    "    vowels = \"aeiou\"\n",
    "    result = []\n",
    "    count = 0  \n",
    "\n",
    "    for i, char in enumerate(txt):\n",
    "        result.append(char)\n",
    "        count += 1\n",
    "\n",
    "        \n",
    "        if count == 3 and i < len(txt) - 1:\n",
    "            result.append(\"_\")\n",
    "            count = 0  \n",
    "        \n",
    "    \n",
    "        elif char in vowels or (i > 0 and result[-2] == \"_\"):\n",
    "            if i < len(txt) - 1:  \n",
    "                result.append(\"_\")\n",
    "    \n",
    "    return \"\".join(result)\n",
    "\n",
    "\n",
    "print(modify_text(\"hello\"))  \n",
    "print(modify_text(\"assalom\"))  \n",
    "print(modify_text(\"abcabcdabcdeabcdefabcdefg\")) "
   ]
  },
  {
   "cell_type": "code",
   "execution_count": 9,
   "metadata": {},
   "outputs": [
    {
     "name": "stdout",
     "output_type": "stream",
     "text": [
      "1\n",
      "2\n",
      "3\n",
      "5\n",
      "7\n",
      "11\n",
      "13\n",
      "17\n",
      "19\n",
      "23\n",
      "29\n",
      "31\n",
      "37\n",
      "41\n",
      "43\n",
      "47\n",
      "53\n",
      "59\n",
      "61\n",
      "67\n",
      "71\n",
      "73\n",
      "79\n",
      "83\n",
      "89\n",
      "97\n"
     ]
    }
   ],
   "source": [
    "#6\n",
    "for number in range(1,100):\n",
    "    prime = True\n",
    "    \n",
    "    for i in range(2, number):\n",
    "        if number % i == 0:\n",
    "            prime = False\n",
    "            break\n",
    "    if prime:\n",
    "        print(number)"
   ]
  }
 ],
 "metadata": {
  "kernelspec": {
   "display_name": "Python 3",
   "language": "python",
   "name": "python3"
  },
  "language_info": {
   "codemirror_mode": {
    "name": "ipython",
    "version": 3
   },
   "file_extension": ".py",
   "mimetype": "text/x-python",
   "name": "python",
   "nbconvert_exporter": "python",
   "pygments_lexer": "ipython3",
   "version": "3.12.9"
  }
 },
 "nbformat": 4,
 "nbformat_minor": 2
}
