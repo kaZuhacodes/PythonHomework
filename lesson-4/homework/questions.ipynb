{
 "cells": [
  {
   "cell_type": "markdown",
   "metadata": {},
   "source": [
    "###\n",
    "1. Difference between continue and break statements in Python\n",
    "\n",
    "Both continue and break are control statements that alter the flow of loops, but they function differently:\n",
    "\n",
    "•\tbreak: Terminates the loop entirely, and control moves to the next statement after the loop.\n",
    "\n",
    "•\tcontinue: Skips the current iteration and moves to the next iteration of the loop.\n",
    "\n"
   ]
  },
  {
   "cell_type": "code",
   "execution_count": null,
   "metadata": {},
   "outputs": [
    {
     "name": "stdout",
     "output_type": "stream",
     "text": [
      "0\n",
      "1\n",
      "2\n",
      "Loop exited\n"
     ]
    }
   ],
   "source": [
    "# Using break\n",
    "for i in range(5):\n",
    "    if i == 3:\n",
    "        break\n",
    "    print(i)\n",
    "print(\"Loop exited\")\n"
   ]
  },
  {
   "cell_type": "code",
   "execution_count": 3,
   "metadata": {},
   "outputs": [
    {
     "name": "stdout",
     "output_type": "stream",
     "text": [
      "0\n",
      "1\n",
      "2\n",
      "4\n",
      "Loop finished\n"
     ]
    }
   ],
   "source": [
    "# Using continue\n",
    "for i in range(5):\n",
    "    if i == 3:\n",
    "        continue \n",
    "    print(i)\n",
    "print(\"Loop finished\")"
   ]
  },
  {
   "cell_type": "markdown",
   "metadata": {},
   "source": [
    "2. Difference between for loop and while loop\n",
    "\n",
    "for Loop: \t\n",
    "- Used when the number of iterations is known\t\n",
    "- Iterates over a sequence (list, tuple, range, etc.)\n",
    "- Uses an iterable object\n",
    "- Best for\tIterating over sequences (lists, strings, etc.)\n",
    "\n",
    "while Loop\n",
    "- Used when the number of iterations is not known beforehand\n",
    "- Runs as long as a condition remains True\n",
    "- Uses a condition that must be manually updated\n",
    "- Running until a condition changes dynamically"
   ]
  },
  {
   "cell_type": "code",
   "execution_count": null,
   "metadata": {},
   "outputs": [
    {
     "name": "stdout",
     "output_type": "stream",
     "text": [
      "0\n",
      "1\n",
      "2\n",
      "3\n",
      "4\n"
     ]
    }
   ],
   "source": [
    "for i in range(5):  # Iterates exactly 5 times\n",
    "    print(i)"
   ]
  },
  {
   "cell_type": "code",
   "execution_count": 5,
   "metadata": {},
   "outputs": [
    {
     "name": "stdout",
     "output_type": "stream",
     "text": [
      "0\n",
      "1\n",
      "2\n",
      "3\n",
      "4\n"
     ]
    }
   ],
   "source": [
    "x = 0\n",
    "while x < 5:  # Runs until x reaches 5\n",
    "    print(x)\n",
    "    x += 1  # Manual increment"
   ]
  },
  {
   "cell_type": "markdown",
   "metadata": {},
   "source": [
    "3. Implementing a Nested For Loop\n",
    "\n",
    "A nested for loop is a loop inside another loop. The inner loop executes completely for each iteration of the outer loop."
   ]
  },
  {
   "cell_type": "code",
   "execution_count": 6,
   "metadata": {},
   "outputs": [
    {
     "name": "stdout",
     "output_type": "stream",
     "text": [
      "1 x 1 = 1\n",
      "1 x 2 = 2\n",
      "1 x 3 = 3\n",
      "------\n",
      "2 x 1 = 2\n",
      "2 x 2 = 4\n",
      "2 x 3 = 6\n",
      "------\n",
      "3 x 1 = 3\n",
      "3 x 2 = 6\n",
      "3 x 3 = 9\n",
      "------\n"
     ]
    }
   ],
   "source": [
    "for i in range(1, 4):  # Outer loop\n",
    "    for j in range(1, 4):  # Inner loop\n",
    "        print(f\"{i} x {j} = {i * j}\")\n",
    "    print(\"------\")  # Separates each outer loop iteration"
   ]
  }
 ],
 "metadata": {
  "kernelspec": {
   "display_name": "Python 3",
   "language": "python",
   "name": "python3"
  },
  "language_info": {
   "codemirror_mode": {
    "name": "ipython",
    "version": 3
   },
   "file_extension": ".py",
   "mimetype": "text/x-python",
   "name": "python",
   "nbconvert_exporter": "python",
   "pygments_lexer": "ipython3",
   "version": "3.12.9"
  }
 },
 "nbformat": 4,
 "nbformat_minor": 2
}
