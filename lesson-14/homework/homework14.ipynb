{
 "cells": [
  {
   "cell_type": "code",
   "execution_count": 2,
   "metadata": {},
   "outputs": [
    {
     "name": "stdout",
     "output_type": "stream",
     "text": [
      "[  0.          20.          37.77777778 100.          25.        ]\n"
     ]
    }
   ],
   "source": [
    "#Question 1\n",
    "import numpy as np\n",
    "\n",
    "def farenheit_to_celcius(f):\n",
    "    return (f-32)*(5/9)\n",
    "\n",
    "vectorize=np.vectorize(farenheit_to_celcius)\n",
    "\n",
    "temperatures_f=np.array([32, 68, 100, 212, 77])\n",
    "\n",
    "temperatures_c=farenheit_to_celcius(temperatures_f)\n",
    "print(temperatures_c)\n"
   ]
  },
  {
   "cell_type": "code",
   "execution_count": 3,
   "metadata": {},
   "outputs": [
    {
     "name": "stdout",
     "output_type": "stream",
     "text": [
      "[  2   9  64 625]\n"
     ]
    }
   ],
   "source": [
    "#Question 2\n",
    "import numpy as np\n",
    "\n",
    "def customFunction(bases,exponents):\n",
    "    return np.pow(bases,exponents)\n",
    "\n",
    "bases=np.array([2, 3, 4, 5])\n",
    "exponents=np.array([1, 2, 3, 4])\n",
    "\n",
    "vectorized=np.vectorize(customFunction)\n",
    "\n",
    "output=vectorized(bases,exponents)\n",
    "print(output)\n",
    "\n",
    "\n"
   ]
  },
  {
   "cell_type": "code",
   "execution_count": 4,
   "metadata": {},
   "outputs": [
    {
     "name": "stdout",
     "output_type": "stream",
     "text": [
      "x=[1.7027027] y=[0.62162162] z=[-0.48648649]\n"
     ]
    }
   ],
   "source": [
    "#question 3\n",
    "\n",
    "import numpy as np\n",
    "\n",
    "a=np.array([[4,5,6],[3,-1,1],[2,1,-2]])\n",
    "b=np.array([[7],[4],[5]])\n",
    "xyz=np.linalg.solve(a,b)\n",
    "print(f'x={xyz[0]} y={xyz[1]} z={xyz[2]}')\n"
   ]
  },
  {
   "cell_type": "code",
   "execution_count": 5,
   "metadata": {},
   "outputs": [
    {
     "name": "stdout",
     "output_type": "stream",
     "text": [
      "I1=[0.48963731] I2=[-0.2253886] I3=[2.21761658]\n"
     ]
    }
   ],
   "source": [
    "#Question 4\n",
    "import numpy as np\n",
    "\n",
    "a=np.array([[10,-2,3],[-2,8,-1],[3,-1,6]])\n",
    "b=np.array([[12],[-5],[15]])\n",
    "i=np.linalg.solve(a,b)\n",
    "print(f'I1={i[0]} I2={i[1]} I3={i[2]}')\n"
   ]
  }
 ],
 "metadata": {
  "kernelspec": {
   "display_name": ".venv",
   "language": "python",
   "name": "python3"
  },
  "language_info": {
   "codemirror_mode": {
    "name": "ipython",
    "version": 3
   },
   "file_extension": ".py",
   "mimetype": "text/x-python",
   "name": "python",
   "nbconvert_exporter": "python",
   "pygments_lexer": "ipython3",
   "version": "3.12.9"
  }
 },
 "nbformat": 4,
 "nbformat_minor": 2
}
