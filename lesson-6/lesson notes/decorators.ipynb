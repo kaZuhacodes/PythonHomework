{
 "cells": [
  {
   "cell_type": "markdown",
   "metadata": {},
   "source": [
    "## Decorators\n",
    "- Creating decorators\n",
    "- Applying Decorators"
   ]
  },
  {
   "cell_type": "code",
   "execution_count": 11,
   "metadata": {},
   "outputs": [
    {
     "name": "stdout",
     "output_type": "stream",
     "text": [
      "hello\n"
     ]
    }
   ],
   "source": [
    "def print_hello():\n",
    "    print('hello')\n",
    "\n",
    "def print_another(a):\n",
    "    print('Another function, a = ', a)\n",
    "\n",
    "a = print_hello\n",
    "\n",
    "a()"
   ]
  },
  {
   "cell_type": "code",
   "execution_count": 12,
   "metadata": {},
   "outputs": [
    {
     "name": "stdout",
     "output_type": "stream",
     "text": [
      "\n",
      "BEFORE\n",
      "Another function, a =  1\n",
      "AFTER\n"
     ]
    }
   ],
   "source": [
    "def decorator1(func):\n",
    "    print(\"BEFORE\")\n",
    "    func(1)\n",
    "    print(\"AFTER\")\n",
    "\n",
    "# decorator1(print_hello)\n",
    "print()\n",
    "decorator1(print_another)"
   ]
  },
  {
   "cell_type": "code",
   "execution_count": 13,
   "metadata": {},
   "outputs": [],
   "source": [
    "# example 1\n",
    "def decorator(func):\n",
    "    def wrapper():\n",
    "        print(\"Before function call\")\n",
    "        func()\n",
    "        print(\"After function call\")\n",
    "    return wrapper"
   ]
  },
  {
   "cell_type": "code",
   "execution_count": 14,
   "metadata": {},
   "outputs": [
    {
     "data": {
      "text/plain": [
       "function"
      ]
     },
     "execution_count": 14,
     "metadata": {},
     "output_type": "execute_result"
    }
   ],
   "source": [
    "var = decorator(print_hello)\n",
    "type(var)"
   ]
  },
  {
   "cell_type": "code",
   "execution_count": 20,
   "metadata": {},
   "outputs": [
    {
     "data": {
      "text/plain": [
       "'wrapper'"
      ]
     },
     "execution_count": 20,
     "metadata": {},
     "output_type": "execute_result"
    }
   ],
   "source": [
    "var.__name__"
   ]
  },
  {
   "cell_type": "code",
   "execution_count": 21,
   "metadata": {},
   "outputs": [
    {
     "name": "stdout",
     "output_type": "stream",
     "text": [
      "Before function call\n",
      "hello\n",
      "After function call\n"
     ]
    }
   ],
   "source": [
    "var()"
   ]
  },
  {
   "cell_type": "code",
   "execution_count": 22,
   "metadata": {},
   "outputs": [
    {
     "data": {
      "text/plain": [
       "'wrapper'"
      ]
     },
     "execution_count": 22,
     "metadata": {},
     "output_type": "execute_result"
    }
   ],
   "source": [
    "print_hello = decorator(print_hello)\n",
    "print_hello.__name__"
   ]
  },
  {
   "cell_type": "code",
   "execution_count": 23,
   "metadata": {},
   "outputs": [
    {
     "name": "stdout",
     "output_type": "stream",
     "text": [
      "Before function call\n",
      "hello\n",
      "After function call\n"
     ]
    }
   ],
   "source": [
    "print_hello()"
   ]
  },
  {
   "cell_type": "code",
   "execution_count": 27,
   "metadata": {},
   "outputs": [
    {
     "name": "stdout",
     "output_type": "stream",
     "text": [
      "Before function call\n",
      "Hello!\n",
      "After function call\n"
     ]
    }
   ],
   "source": [
    "@decorator\n",
    "def say_hello():\n",
    "    print(\"Hello!\")\n",
    "\n",
    "say_hello()"
   ]
  },
  {
   "cell_type": "code",
   "execution_count": 29,
   "metadata": {},
   "outputs": [
    {
     "name": "stdout",
     "output_type": "stream",
     "text": [
      "<b>Hello</b>\n"
     ]
    }
   ],
   "source": [
    "# example 2\n",
    "def bold(func):\n",
    "    def wrapper():\n",
    "        return f\"<b>{func()}</b>\"\n",
    "    return wrapper\n",
    "\n",
    "@bold\n",
    "def greet():\n",
    "    return \"Hello\"\n",
    "\n",
    "print(greet())"
   ]
  },
  {
   "cell_type": "code",
   "execution_count": 36,
   "metadata": {},
   "outputs": [
    {
     "name": "stdout",
     "output_type": "stream",
     "text": [
      "Hello, Alice!\n",
      "Hello, Alice!\n",
      "Hello, Alice!\n",
      "Hello, Alice!\n"
     ]
    }
   ],
   "source": [
    "# example 3\n",
    "def repeat(n):\n",
    "    def decorator(func):\n",
    "        def wrapper(*args, **kwargs):\n",
    "            for _ in range(n):\n",
    "                func(*args, **kwargs)\n",
    "        return wrapper\n",
    "    return decorator\n",
    "\n",
    "@repeat(4)\n",
    "def greet(name):\n",
    "    print(f\"Hello, {name}!\")\n",
    "\n",
    "greet(\"Alice\")"
   ]
  },
  {
   "cell_type": "code",
   "execution_count": 64,
   "metadata": {},
   "outputs": [],
   "source": [
    "def repeat_3(func):\n",
    "    def wrapper(name):\n",
    "        for _ in range(3):\n",
    "            func(name)\n",
    "\n",
    "    wrapper.__name__ = func.__name__\n",
    "    \n",
    "    return wrapper\n",
    "\n",
    "@repeat_3\n",
    "def greet(name):\n",
    "    print(f\"Hello, {name}!\")\n"
   ]
  },
  {
   "cell_type": "code",
   "execution_count": 65,
   "metadata": {},
   "outputs": [
    {
     "data": {
      "text/plain": [
       "'greet'"
      ]
     },
     "execution_count": 65,
     "metadata": {},
     "output_type": "execute_result"
    }
   ],
   "source": [
    "greet.__name__"
   ]
  },
  {
   "cell_type": "code",
   "execution_count": 66,
   "metadata": {},
   "outputs": [
    {
     "data": {
      "text/plain": [
       "<function __main__.repeat_3.<locals>.wrapper(name)>"
      ]
     },
     "execution_count": 66,
     "metadata": {},
     "output_type": "execute_result"
    }
   ],
   "source": [
    "greet"
   ]
  },
  {
   "cell_type": "code",
   "execution_count": 70,
   "metadata": {},
   "outputs": [],
   "source": [
    "def repeat(n):\n",
    "    def d(func):\n",
    "        def wrapper(name):\n",
    "            for _ in range(n):\n",
    "                func(name)\n",
    "\n",
    "        wrapper.__name__ = func.__name__\n",
    "        \n",
    "        return wrapper\n",
    "    \n",
    "    return d\n",
    "\n",
    "@repeat(15)\n",
    "def greet(name):\n",
    "    print(f\"Hello, {name}!\")\n",
    "\n",
    "# def greet(name):\n",
    "#     print(f\"Hello, {name}!\")\n",
    "\n",
    "# greet = repeat(5)(greet)"
   ]
  },
  {
   "cell_type": "code",
   "execution_count": 71,
   "metadata": {},
   "outputs": [
    {
     "name": "stdout",
     "output_type": "stream",
     "text": [
      "Hello, John!\n",
      "Hello, John!\n",
      "Hello, John!\n",
      "Hello, John!\n",
      "Hello, John!\n",
      "Hello, John!\n",
      "Hello, John!\n",
      "Hello, John!\n",
      "Hello, John!\n",
      "Hello, John!\n",
      "Hello, John!\n",
      "Hello, John!\n",
      "Hello, John!\n",
      "Hello, John!\n",
      "Hello, John!\n"
     ]
    }
   ],
   "source": [
    "greet('John')"
   ]
  },
  {
   "cell_type": "code",
   "execution_count": null,
   "metadata": {},
   "outputs": [],
   "source": []
  }
 ],
 "metadata": {
  "kernelspec": {
   "display_name": "Python 3",
   "language": "python",
   "name": "python3"
  },
  "language_info": {
   "codemirror_mode": {
    "name": "ipython",
    "version": 3
   },
   "file_extension": ".py",
   "mimetype": "text/x-python",
   "name": "python",
   "nbconvert_exporter": "python",
   "pygments_lexer": "ipython3",
   "version": "3.10.11"
  }
 },
 "nbformat": 4,
 "nbformat_minor": 2
}
