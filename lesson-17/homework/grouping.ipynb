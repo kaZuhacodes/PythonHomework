{
 "cells": [
  {
   "cell_type": "code",
   "execution_count": null,
   "metadata": {},
   "outputs": [],
   "source": [
    "#1\n",
    "import pandas as pd\n",
    "\n",
    "df = pd.read_csv(\"titanic.csv\")\n",
    "\n",
    "summary_df = df.groupby(\"Pclass\").agg(\n",
    "    Average_Age=(\"Age\", \"mean\"),\n",
    "    Total_Fare=(\"Fare\", \"sum\"),\n",
    "    Passenger_Count=(\"PassengerId\", \"count\")  \n",
    ").reset_index()\n",
    "\n",
    "print(summary_df)\n",
    "\n",
    "summary_df.to_csv(\"pclass_summary.csv\", index=False)\n"
   ]
  },
  {
   "cell_type": "code",
   "execution_count": null,
   "metadata": {},
   "outputs": [],
   "source": [
    "#2\n",
    "import pandas as pd\n",
    "\n",
    "df = pd.read_csv(\"movie.csv\")\n",
    "\n",
    "grouped_df = df.groupby([\"color\", \"director_name\"]).agg(\n",
    "    Total_Critic_Reviews=(\"num_critic_for_reviews\", \"sum\"),\n",
    "    Average_Duration=(\"duration\", \"mean\")\n",
    ").reset_index()\n",
    "\n",
    "print(grouped_df)\n",
    "\n",
    "grouped_df.to_csv(\"movie_grouped_summary.csv\", index=False)\n"
   ]
  },
  {
   "cell_type": "code",
   "execution_count": null,
   "metadata": {},
   "outputs": [],
   "source": [
    "#3\n",
    "import pandas as pd\n",
    "\n",
    "df = pd.read_csv(\"flights.csv\")\n",
    "\n",
    "grouped_df = df.groupby([\"Year\", \"Month\"]).agg(\n",
    "    Total_Flights=(\"FlightNum\", \"count\"),\n",
    "    Average_Arrival_Delay=(\"ArrDelay\", \"mean\"),\n",
    "    Maximum_Departure_Delay=(\"DepDelay\", \"max\")\n",
    ").reset_index()\n",
    "\n",
    "print(grouped_df)\n",
    "\n",
    "grouped_df.to_csv(\"flights_summary.csv\", index=False)\n"
   ]
  }
 ],
 "metadata": {
  "language_info": {
   "name": "python"
  }
 },
 "nbformat": 4,
 "nbformat_minor": 2
}
