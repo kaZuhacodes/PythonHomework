{
 "cells": [
  {
   "cell_type": "code",
   "execution_count": null,
   "id": "8637f10a",
   "metadata": {},
   "outputs": [],
   "source": [
    "#1\n",
    "def filter_survivors(df):\n",
    "    return df[df['Survived'] == 1]\n",
    "\n",
    "def fill_missing_age(df):\n",
    "    mean_age = df['Age'].mean()\n",
    "    return df.assign(Age=df['Age'].fillna(mean_age))\n",
    "\n",
    "def add_fare_per_age(df):\n",
    "    df['Fare_Per_Age'] = df['Fare']/df['Age']\n",
    "    return df\n",
    "\n",
    "df_titanic_final = (\n",
    "    df_titanic.pipe(filter_survivors)\n",
    "    .pipe(fill_missing_age)\n",
    "    .pipe(add_fare_per_age)\n",
    "    )\n",
    "\n",
    "print(df_titanic_final)"
   ]
  },
  {
   "cell_type": "code",
   "execution_count": null,
   "id": "2b84f5c4",
   "metadata": {},
   "outputs": [],
   "source": [
    "#2\n",
    "def filter_delay(df):\n",
    "    return df[df['DepDelay']>30]\n",
    "\n",
    "def add_delay_per_hour(df):\n",
    "    df['Delay_Per_Hour'] = df['DepDelay']/df['Duration']\n",
    "    return df\n",
    "\n",
    "df_flights_modified = (\n",
    "    df_flights.pipe(filter_delay)\n",
    "    .pipe(add_delay_per_hour)\n",
    "    )\n",
    "\n",
    "print(df_flights_modified)"
   ]
  }
 ],
 "metadata": {
  "language_info": {
   "name": "python"
  }
 },
 "nbformat": 4,
 "nbformat_minor": 5
}
