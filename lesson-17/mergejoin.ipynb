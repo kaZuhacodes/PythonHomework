{
 "cells": [
  {
   "cell_type": "code",
   "execution_count": null,
   "metadata": {},
   "outputs": [],
   "source": [
    "#1\n",
    "import sqlite3\n",
    "\n",
    "conn = sqlite3.connect(\"chinook.db\")\n",
    "cursor = conn.cursor()\n",
    "query = \"\"\"\n",
    "SELECT c.CustomerId, c.FirstName, c.LastName, COUNT(i.InvoiceId) AS TotalInvoices\n",
    "FROM customers c\n",
    "INNER JOIN invoices i ON c.CustomerId = i.CustomerId\n",
    "GROUP BY c.CustomerId, c.FirstName, c.LastName\n",
    "ORDER BY TotalInvoices DESC;\n",
    "\"\"\"\n",
    "\n",
    "cursor.execute(query)\n",
    "\n",
    "results = cursor.fetchall()\n",
    "\n",
    "print(\"CustomerID | First Name | Last Name | Total Invoices\")\n",
    "print(\"-\" * 50)\n",
    "for row in results:\n",
    "    print(f\"{row[0]:<10} | {row[1]:<10} | {row[2]:<10} | {row[3]:<5}\")\n",
    "\n",
    "conn.close()\n"
   ]
  },
  {
   "cell_type": "code",
   "execution_count": null,
   "metadata": {},
   "outputs": [],
   "source": [
    "#2\n",
    "import pandas as pd\n",
    "\n",
    "df = pd.read_csv(\"movie.csv\")\n",
    "\n",
    "df1 = df[['director_name', 'color']].drop_duplicates() \n",
    "df2 = df[['director_name', 'num_critic_for_reviews']].drop_duplicates()\n",
    "\n",
    "left_join_df = pd.merge(df1, df2, on=\"director_name\", how=\"left\")\n",
    "\n",
    "full_outer_join_df = pd.merge(df1, df2, on=\"director_name\", how=\"outer\")\n",
    "\n",
    "print(f\"Rows in LEFT JOIN DataFrame: {len(left_join_df)}\")\n",
    "print(f\"Rows in FULL OUTER JOIN DataFrame: {len(full_outer_join_df)}\")\n"
   ]
  }
 ],
 "metadata": {
  "language_info": {
   "name": "python"
  }
 },
 "nbformat": 4,
 "nbformat_minor": 2
}
