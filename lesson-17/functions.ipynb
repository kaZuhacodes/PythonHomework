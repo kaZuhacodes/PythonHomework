{
 "cells": [
  {
   "cell_type": "code",
   "execution_count": null,
   "metadata": {},
   "outputs": [],
   "source": [
    "#1\n",
    "import pandas as pd\n",
    "\n",
    "df = pd.read_csv(\"titanic.csv\")\n",
    "\n",
    "def classify_age(age):\n",
    "    if pd.isna(age): \n",
    "        return \"Unknown\"\n",
    "    return \"Child\" if age < 18 else \"Adult\"\n",
    "\n",
    "df[\"Age_Group\"] = df[\"Age\"].apply(classify_age)\n",
    "\n",
    "print(df[[\"Age\", \"Age_Group\"]].head())\n",
    "\n",
    "df.to_csv(\"titanic_with_age_group.csv\", index=False)\n"
   ]
  },
  {
   "cell_type": "code",
   "execution_count": null,
   "metadata": {},
   "outputs": [],
   "source": [
    "#2\n",
    "import pandas as pd\n",
    "\n",
    "df = pd.read_csv(\"employee.csv\")\n",
    "\n",
    "def normalize(series):\n",
    "    return (series - series.min()) / (series.max() - series.min())\n",
    "\n",
    "df[\"Normalized_Salary\"] = df.groupby(\"Department\")[\"Salary\"].transform(normalize)\n",
    "\n",
    "print(df[[\"Department\", \"Salary\", \"Normalized_Salary\"]].head())\n",
    "\n",
    "df.to_csv(\"employee_normalized.csv\", index=False)\n"
   ]
  },
  {
   "cell_type": "code",
   "execution_count": null,
   "metadata": {},
   "outputs": [],
   "source": [
    "#3\n",
    "import pandas as pd\n",
    "\n",
    "df = pd.read_csv(\"movie.csv\")\n",
    "\n",
    "if \"duration\" in df.columns:\n",
    "    df[\"duration\"] = pd.to_numeric(df[\"duration\"], errors=\"coerce\") \n",
    "\n",
    "    def classify_duration(duration):\n",
    "        if pd.isna(duration): \n",
    "            return \"Unknown\"\n",
    "        elif duration < 60:\n",
    "            return \"Short\"\n",
    "        elif 60 <= duration <= 120:\n",
    "            return \"Medium\"\n",
    "        else:\n",
    "            return \"Long\"\n",
    "\n",
    "    df[\"Duration_Category\"] = df[\"duration\"].apply(classify_duration)\n",
    "\n",
    "    print(df[[\"duration\", \"Duration_Category\"]].head())\n",
    "\n",
    "  \n",
    "    df.to_csv(\"movies_with_duration_category.csv\", index=False)\n",
    "\n",
    "else:\n",
    "    print(\"Error: 'duration' column not found in the dataset.\")\n"
   ]
  }
 ],
 "metadata": {
  "language_info": {
   "name": "python"
  }
 },
 "nbformat": 4,
 "nbformat_minor": 2
}
